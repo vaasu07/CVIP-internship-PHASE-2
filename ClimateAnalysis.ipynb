{
  "cells": [
    {
      "cell_type": "code",
      "execution_count": null,
      "metadata": {
        "id": "MVGoQv14smRT"
      },
      "outputs": [
        {
          "ename": "",
          "evalue": "",
          "output_type": "error",
          "traceback": [
            "\u001b[1;31mRunning cells with 'Python 3.11.0' requires the ipykernel package.\n",
            "\u001b[1;31mRun the following command to install 'ipykernel' into the Python environment. \n",
            "\u001b[1;31mCommand: 'c:/Users/CT35/AppData/Local/Programs/Python/Python311/python.exe -m pip install ipykernel -U --user --force-reinstall'"
          ]
        }
      ],
      "source": [
        "import pandas as pd\n",
        "import numpy as np\n",
        "import matplotlib.pyplot as plt\n",
        "import seaborn as sns\n",
        "from scipy import stats\n",
        "import xarray as xr\n"
      ]
    },
    {
      "cell_type": "code",
      "execution_count": null,
      "metadata": {
        "colab": {
          "base_uri": "https://localhost:8080/"
        },
        "id": "vwgYpA9P4-qk",
        "outputId": "eee45637-b7fb-4aec-ea46-a67bf47822a9"
      },
      "outputs": [
        {
          "ename": "",
          "evalue": "",
          "output_type": "error",
          "traceback": [
            "\u001b[1;31mRunning cells with 'Python 3.11.0' requires the ipykernel package.\n",
            "\u001b[1;31mRun the following command to install 'ipykernel' into the Python environment. \n",
            "\u001b[1;31mCommand: 'c:/Users/CT35/AppData/Local/Programs/Python/Python311/python.exe -m pip install ipykernel -U --user --force-reinstall'"
          ]
        }
      ],
      "source": [
        "daily_data = pd.read_csv('/content/daily_data.csv')\n",
        "hourly_data = pd.read_csv('/content/hourly_data.csv')\n",
        "monthly_data= pd.read_csv('/content/monthly_data.csv')\n",
        "three_hour_data = pd.read_csv('/content/three_hour_data.csv')\n",
        "print(daily_data.head())\n",
        "print(hourly_data.head())\n",
        "print(monthly_data.head())\n",
        "print(three_hour_data.head())"
      ]
    },
    {
      "cell_type": "code",
      "execution_count": null,
      "metadata": {
        "id": "c6THn8z0p2Jq"
      },
      "outputs": [
        {
          "ename": "",
          "evalue": "",
          "output_type": "error",
          "traceback": [
            "\u001b[1;31mRunning cells with 'Python 3.11.0' requires the ipykernel package.\n",
            "\u001b[1;31mRun the following command to install 'ipykernel' into the Python environment. \n",
            "\u001b[1;31mCommand: 'c:/Users/CT35/AppData/Local/Programs/Python/Python311/python.exe -m pip install ipykernel -U --user --force-reinstall'"
          ]
        }
      ],
      "source": []
    },
    {
      "cell_type": "code",
      "execution_count": null,
      "metadata": {
        "colab": {
          "base_uri": "https://localhost:8080/",
          "height": 791
        },
        "id": "KJhBb98p9Zog",
        "outputId": "84ed0201-f82f-465d-b917-93288204c51b"
      },
      "outputs": [
        {
          "ename": "",
          "evalue": "",
          "output_type": "error",
          "traceback": [
            "\u001b[1;31mRunning cells with 'Python 3.11.0' requires the ipykernel package.\n",
            "\u001b[1;31mRun the following command to install 'ipykernel' into the Python environment. \n",
            "\u001b[1;31mCommand: 'c:/Users/CT35/AppData/Local/Programs/Python/Python311/python.exe -m pip install ipykernel -U --user --force-reinstall'"
          ]
        }
      ],
      "source": [
        "daily_data.dropna()\n",
        "hourly_data.dropna()\n",
        "monthly_data.dropna()\n",
        "three_hour_data.dropna()"
      ]
    },
    {
      "cell_type": "code",
      "execution_count": null,
      "metadata": {
        "colab": {
          "base_uri": "https://localhost:8080/",
          "height": 320
        },
        "id": "v633vOkJ6NPo",
        "outputId": "e9d80d4c-b575-4e89-d480-b867b1ada6e9"
      },
      "outputs": [
        {
          "ename": "",
          "evalue": "",
          "output_type": "error",
          "traceback": [
            "\u001b[1;31mRunning cells with 'Python 3.11.0' requires the ipykernel package.\n",
            "\u001b[1;31mRun the following command to install 'ipykernel' into the Python environment. \n",
            "\u001b[1;31mCommand: 'c:/Users/CT35/AppData/Local/Programs/Python/Python311/python.exe -m pip install ipykernel -U --user --force-reinstall'"
          ]
        }
      ],
      "source": [
        "daily_data.describe()\n",
        "hourly_data.describe()"
      ]
    },
    {
      "cell_type": "code",
      "execution_count": null,
      "metadata": {
        "colab": {
          "base_uri": "https://localhost:8080/"
        },
        "id": "4EADydFB93Tp",
        "outputId": "12de3d26-935e-41c5-842d-b60032bff922"
      },
      "outputs": [
        {
          "ename": "",
          "evalue": "",
          "output_type": "error",
          "traceback": [
            "\u001b[1;31mRunning cells with 'Python 3.11.0' requires the ipykernel package.\n",
            "\u001b[1;31mRun the following command to install 'ipykernel' into the Python environment. \n",
            "\u001b[1;31mCommand: 'c:/Users/CT35/AppData/Local/Programs/Python/Python311/python.exe -m pip install ipykernel -U --user --force-reinstall'"
          ]
        }
      ],
      "source": [
        "print(daily_data.isnull().sum())\n",
        "is_any_missing_data=daily_data.isna().any().any()\n",
        "print(\"Are there any missing values?\")\n",
        "print(is_any_missing_data)"
      ]
    },
    {
      "cell_type": "code",
      "execution_count": null,
      "metadata": {
        "colab": {
          "base_uri": "https://localhost:8080/"
        },
        "id": "dNctJVFI-chu",
        "outputId": "ea8de5f9-d149-4db2-8fe8-2c7c098a9261"
      },
      "outputs": [
        {
          "ename": "",
          "evalue": "",
          "output_type": "error",
          "traceback": [
            "\u001b[1;31mRunning cells with 'Python 3.11.0' requires the ipykernel package.\n",
            "\u001b[1;31mRun the following command to install 'ipykernel' into the Python environment. \n",
            "\u001b[1;31mCommand: 'c:/Users/CT35/AppData/Local/Programs/Python/Python311/python.exe -m pip install ipykernel -U --user --force-reinstall'"
          ]
        }
      ],
      "source": [
        "print(hourly_data.isnull().sum())\n",
        "is_any_missing_data=hourly_data.isna().any().any()\n",
        "print(\"Are there any missing values?\")\n",
        "print(is_any_missing_data)"
      ]
    },
    {
      "cell_type": "code",
      "execution_count": null,
      "metadata": {
        "colab": {
          "base_uri": "https://localhost:8080/"
        },
        "id": "voonZ0Od-rex",
        "outputId": "ed76181a-948b-47d3-a1e6-b14b153d1463"
      },
      "outputs": [
        {
          "ename": "",
          "evalue": "",
          "output_type": "error",
          "traceback": [
            "\u001b[1;31mRunning cells with 'Python 3.11.0' requires the ipykernel package.\n",
            "\u001b[1;31mRun the following command to install 'ipykernel' into the Python environment. \n",
            "\u001b[1;31mCommand: 'c:/Users/CT35/AppData/Local/Programs/Python/Python311/python.exe -m pip install ipykernel -U --user --force-reinstall'"
          ]
        }
      ],
      "source": [
        "print(monthly_data.isnull().sum())\n",
        "is_any_missing_data=monthly_data.isna().any().any()\n",
        "print(\"Are there any missing values?\")\n",
        "print(is_any_missing_data)"
      ]
    },
    {
      "cell_type": "code",
      "execution_count": null,
      "metadata": {
        "colab": {
          "base_uri": "https://localhost:8080/"
        },
        "id": "tTTzdvGR-1HJ",
        "outputId": "f95de257-7ce2-493a-faf1-b4e61a298e34"
      },
      "outputs": [
        {
          "ename": "",
          "evalue": "",
          "output_type": "error",
          "traceback": [
            "\u001b[1;31mRunning cells with 'Python 3.11.0' requires the ipykernel package.\n",
            "\u001b[1;31mRun the following command to install 'ipykernel' into the Python environment. \n",
            "\u001b[1;31mCommand: 'c:/Users/CT35/AppData/Local/Programs/Python/Python311/python.exe -m pip install ipykernel -U --user --force-reinstall'"
          ]
        }
      ],
      "source": [
        "print(three_hour_data.isnull().sum())\n",
        "is_any_missing_data=three_hour_data.isna().any().any()\n",
        "print(\"Are there any missing values?\")\n",
        "print(is_any_missing_data)"
      ]
    },
    {
      "cell_type": "code",
      "execution_count": null,
      "metadata": {
        "colab": {
          "base_uri": "https://localhost:8080/"
        },
        "id": "wAvEVVl9_LZk",
        "outputId": "598991c6-edf2-47ed-a8e6-052c8049c689"
      },
      "outputs": [
        {
          "ename": "",
          "evalue": "",
          "output_type": "error",
          "traceback": [
            "\u001b[1;31mRunning cells with 'Python 3.11.0' requires the ipykernel package.\n",
            "\u001b[1;31mRun the following command to install 'ipykernel' into the Python environment. \n",
            "\u001b[1;31mCommand: 'c:/Users/CT35/AppData/Local/Programs/Python/Python311/python.exe -m pip install ipykernel -U --user --force-reinstall'"
          ]
        }
      ],
      "source": [
        "#Removing duplicates values\n",
        "daily_data.drop_duplicates(inplace=True)\n",
        "daily_data.duplicated().sum()"
      ]
    },
    {
      "cell_type": "code",
      "execution_count": null,
      "metadata": {
        "colab": {
          "base_uri": "https://localhost:8080/"
        },
        "id": "eYSiRknRAFAS",
        "outputId": "7f0e7336-9364-406c-ef49-1a5555ae4961"
      },
      "outputs": [
        {
          "ename": "",
          "evalue": "",
          "output_type": "error",
          "traceback": [
            "\u001b[1;31mRunning cells with 'Python 3.11.0' requires the ipykernel package.\n",
            "\u001b[1;31mRun the following command to install 'ipykernel' into the Python environment. \n",
            "\u001b[1;31mCommand: 'c:/Users/CT35/AppData/Local/Programs/Python/Python311/python.exe -m pip install ipykernel -U --user --force-reinstall'"
          ]
        }
      ],
      "source": [
        "#Removing duplicates values\n",
        "hourly_data.drop_duplicates(inplace=True)\n",
        "hourly_data.duplicated().sum()"
      ]
    },
    {
      "cell_type": "code",
      "execution_count": null,
      "metadata": {
        "colab": {
          "base_uri": "https://localhost:8080/"
        },
        "id": "RgQoUvJAASO-",
        "outputId": "d892291a-36ae-40ec-fd8b-0a2d8540afd2"
      },
      "outputs": [
        {
          "ename": "",
          "evalue": "",
          "output_type": "error",
          "traceback": [
            "\u001b[1;31mRunning cells with 'Python 3.11.0' requires the ipykernel package.\n",
            "\u001b[1;31mRun the following command to install 'ipykernel' into the Python environment. \n",
            "\u001b[1;31mCommand: 'c:/Users/CT35/AppData/Local/Programs/Python/Python311/python.exe -m pip install ipykernel -U --user --force-reinstall'"
          ]
        }
      ],
      "source": [
        "monthly_data.drop_duplicates(inplace=True)\n",
        "monthly_data.duplicated().sum()"
      ]
    },
    {
      "cell_type": "code",
      "execution_count": null,
      "metadata": {
        "colab": {
          "base_uri": "https://localhost:8080/"
        },
        "id": "df-AHuj9AlEx",
        "outputId": "3652bc73-0839-42a0-e901-47d6282c58da"
      },
      "outputs": [
        {
          "ename": "",
          "evalue": "",
          "output_type": "error",
          "traceback": [
            "\u001b[1;31mRunning cells with 'Python 3.11.0' requires the ipykernel package.\n",
            "\u001b[1;31mRun the following command to install 'ipykernel' into the Python environment. \n",
            "\u001b[1;31mCommand: 'c:/Users/CT35/AppData/Local/Programs/Python/Python311/python.exe -m pip install ipykernel -U --user --force-reinstall'"
          ]
        }
      ],
      "source": [
        "three_hour_data.drop_duplicates(inplace=True)\n",
        "three_hour_data.duplicated().sum()"
      ]
    },
    {
      "cell_type": "code",
      "execution_count": null,
      "metadata": {
        "colab": {
          "base_uri": "https://localhost:8080/"
        },
        "id": "7xAW9MSwd8pG",
        "outputId": "33db6dcc-625a-49de-990a-9eb78416be47"
      },
      "outputs": [
        {
          "ename": "",
          "evalue": "",
          "output_type": "error",
          "traceback": [
            "\u001b[1;31mRunning cells with 'Python 3.11.0' requires the ipykernel package.\n",
            "\u001b[1;31mRun the following command to install 'ipykernel' into the Python environment. \n",
            "\u001b[1;31mCommand: 'c:/Users/CT35/AppData/Local/Programs/Python/Python311/python.exe -m pip install ipykernel -U --user --force-reinstall'"
          ]
        }
      ],
      "source": [
        "daily_data.info()\n",
        "hourly_data.info()\n",
        "monthly_data.info()\n",
        "three_hour_data.info()"
      ]
    },
    {
      "cell_type": "code",
      "execution_count": null,
      "metadata": {
        "colab": {
          "base_uri": "https://localhost:8080/"
        },
        "id": "X2jZNXecA3F5",
        "outputId": "c712f59d-209d-4f0a-c796-8b3315e49705"
      },
      "outputs": [
        {
          "ename": "",
          "evalue": "",
          "output_type": "error",
          "traceback": [
            "\u001b[1;31mRunning cells with 'Python 3.11.0' requires the ipykernel package.\n",
            "\u001b[1;31mRun the following command to install 'ipykernel' into the Python environment. \n",
            "\u001b[1;31mCommand: 'c:/Users/CT35/AppData/Local/Programs/Python/Python311/python.exe -m pip install ipykernel -U --user --force-reinstall'"
          ]
        }
      ],
      "source": [
        "import pandas as pd\n",
        "import matplotlib.pyplot as plt\n",
        "import seaborn as sns\n",
        "\n",
        "# Load datasets\n",
        "daily_data = pd.read_csv(\"daily_data.csv\")\n",
        "hourly_data = pd.read_csv(\"hourly_data.csv\")\n",
        "monthly_data = pd.read_csv(\"monthly_data.csv\")\n",
        "three_hour_data = pd.read_csv(\"three_hour_data.csv\")\n"
      ]
    },
    {
      "cell_type": "code",
      "execution_count": null,
      "metadata": {
        "colab": {
          "base_uri": "https://localhost:8080/"
        },
        "id": "hC4-fwfYCHPn",
        "outputId": "bdbc57d3-1938-4ef0-c7b1-7effd6646e2f"
      },
      "outputs": [
        {
          "ename": "",
          "evalue": "",
          "output_type": "error",
          "traceback": [
            "\u001b[1;31mRunning cells with 'Python 3.11.0' requires the ipykernel package.\n",
            "\u001b[1;31mRun the following command to install 'ipykernel' into the Python environment. \n",
            "\u001b[1;31mCommand: 'c:/Users/CT35/AppData/Local/Programs/Python/Python311/python.exe -m pip install ipykernel -U --user --force-reinstall'"
          ]
        }
      ],
      "source": [
        "# Check the first few rows of each dataset\n",
        "print(\"Daily Data:\")\n",
        "print(daily_data.head())\n",
        "print(\"\\nHourly Data:\")\n",
        "print(hourly_data.head())\n",
        "print(\"\\nMonthly Data:\")\n",
        "print(monthly_data.head())\n",
        "print(\"\\nThree Hour Data:\")\n",
        "print(three_hour_data.head())\n",
        "\n",
        "# Check data types and missing values\n",
        "print(\"\\nData Types and Missing Values:\")\n",
        "print(daily_data.info())\n",
        "print(hourly_data.info())\n",
        "print(monthly_data.info())\n",
        "print(three_hour_data.info())\n",
        "\n",
        "# Summary statistics\n",
        "print(\"\\nSummary Statistics:\")\n",
        "print(daily_data.describe())\n",
        "print(hourly_data.describe())\n",
        "print(monthly_data.describe())\n",
        "print(three_hour_data.describe())\n"
      ]
    },
    {
      "cell_type": "code",
      "execution_count": null,
      "metadata": {
        "colab": {
          "base_uri": "https://localhost:8080/",
          "height": 1000
        },
        "id": "iQzhnoO4E66h",
        "outputId": "a14af63c-59d5-4ac6-c4ce-14c0a968150e"
      },
      "outputs": [
        {
          "ename": "",
          "evalue": "",
          "output_type": "error",
          "traceback": [
            "\u001b[1;31mRunning cells with 'Python 3.11.0' requires the ipykernel package.\n",
            "\u001b[1;31mRun the following command to install 'ipykernel' into the Python environment. \n",
            "\u001b[1;31mCommand: 'c:/Users/CT35/AppData/Local/Programs/Python/Python311/python.exe -m pip install ipykernel -U --user --force-reinstall'"
          ]
        }
      ],
      "source": [
        "import pandas as pd\n",
        "import matplotlib.pyplot as plt\n",
        "import seaborn as sns\n",
        "\n",
        "# Load datasets\n",
        "daily_data = pd.read_csv(\"daily_data.csv\")\n",
        "hourly_data = pd.read_csv(\"hourly_data.csv\")\n",
        "monthly_data = pd.read_csv(\"monthly_data.csv\")\n",
        "three_hour_data = pd.read_csv(\"three_hour_data.csv\")\n",
        "\n",
        "# Check for missing values\n",
        "print(\"Missing Values:\")\n",
        "print(\"Daily Data:\", daily_data.isnull().sum())\n",
        "print(\"Hourly Data:\", hourly_data.isnull().sum())\n",
        "print(\"Monthly Data:\", monthly_data.isnull().sum())\n",
        "print(\"Three Hour Data:\", three_hour_data.isnull().sum())\n",
        "\n",
        "# Convert DATE column to datetime format\n",
        "daily_data['DATE'] = pd.to_datetime(daily_data['DATE'])\n",
        "hourly_data['DATE'] = pd.to_datetime(hourly_data['DATE'])\n",
        "monthly_data['DATE'] = pd.to_datetime(monthly_data['DATE'])\n",
        "three_hour_data['DATE'] = pd.to_datetime(three_hour_data['DATE'])\n",
        "\n",
        "# Explore basic statistics\n",
        "print(\"Basic Statistics:\")\n",
        "print(\"Daily Data:\", daily_data.describe())\n",
        "print(\"Hourly Data:\", hourly_data.describe())\n",
        "print(\"Monthly Data:\", monthly_data.describe())\n",
        "print(\"Three Hour Data:\", three_hour_data.describe())\n",
        "\n",
        "# Visualize time series\n",
        "plt.figure(figsize=(10, 6))\n",
        "plt.plot(daily_data['DATE'], daily_data['DailyPrecipitation'], label='Daily Precipitation')\n",
        "plt.title('Daily Precipitation Over Time')\n",
        "plt.xlabel('Date')\n",
        "plt.ylabel('Precipitation (inches)')\n",
        "plt.legend()\n",
        "plt.show()\n",
        "\n",
        "# More exploratory analysis and visualizations can be added as needed.\n"
      ]
    },
    {
      "cell_type": "code",
      "execution_count": null,
      "metadata": {
        "colab": {
          "base_uri": "https://localhost:8080/",
          "height": 1000
        },
        "id": "ILNcMph6FW4O",
        "outputId": "1d0a23a4-71e7-46fe-b848-1e21fc748b18"
      },
      "outputs": [
        {
          "ename": "",
          "evalue": "",
          "output_type": "error",
          "traceback": [
            "\u001b[1;31mRunning cells with 'Python 3.11.0' requires the ipykernel package.\n",
            "\u001b[1;31mRun the following command to install 'ipykernel' into the Python environment. \n",
            "\u001b[1;31mCommand: 'c:/Users/CT35/AppData/Local/Programs/Python/Python311/python.exe -m pip install ipykernel -U --user --force-reinstall'"
          ]
        }
      ],
      "source": [
        "# Daily temperature variation\n",
        "plt.figure(figsize=(10, 6))\n",
        "plt.plot(daily_data['DATE'], daily_data['DailyMaximumDryBulbTemperature'], label='Max Temperature')\n",
        "plt.plot(daily_data['DATE'], daily_data['DailyMinimumDryBulbTemperature'], label='Min Temperature')\n",
        "plt.title('Daily Temperature Variation')\n",
        "plt.xlabel('Date')\n",
        "plt.ylabel('Temperature (F)')\n",
        "plt.legend()\n",
        "plt.show()\n",
        "\n",
        "# Daily precipitation\n",
        "plt.figure(figsize=(10, 6))\n",
        "plt.plot(daily_data['DATE'], daily_data['DailyPrecipitation'], label='Precipitation')\n",
        "plt.title('Daily Precipitation')\n",
        "plt.xlabel('Date')\n",
        "plt.ylabel('Precipitation (inches)')\n",
        "plt.legend()\n",
        "plt.show()\n",
        "\n",
        "# Daily wind speed\n",
        "plt.figure(figsize=(10, 6))\n",
        "plt.plot(daily_data['DATE'], daily_data['DailyPeakWindSpeed'], label='Peak Wind Speed')\n",
        "plt.plot(daily_data['DATE'], daily_data['DailySustainedWindSpeed'], label='Sustained Wind Speed')\n",
        "plt.title('Daily Wind Speed')\n",
        "plt.xlabel('Date')\n",
        "plt.ylabel('Wind Speed (mph)')\n",
        "plt.legend()\n",
        "plt.show()\n"
      ]
    },
    {
      "cell_type": "code",
      "execution_count": null,
      "metadata": {
        "colab": {
          "base_uri": "https://localhost:8080/",
          "height": 564
        },
        "id": "A3OiuJ4ie5Ww",
        "outputId": "f6910075-ee69-4cc3-9fdb-89f08f71a026"
      },
      "outputs": [
        {
          "ename": "",
          "evalue": "",
          "output_type": "error",
          "traceback": [
            "\u001b[1;31mRunning cells with 'Python 3.11.0' requires the ipykernel package.\n",
            "\u001b[1;31mRun the following command to install 'ipykernel' into the Python environment. \n",
            "\u001b[1;31mCommand: 'c:/Users/CT35/AppData/Local/Programs/Python/Python311/python.exe -m pip install ipykernel -U --user --force-reinstall'"
          ]
        }
      ],
      "source": [
        "import numpy as np\n",
        "\n",
        "# Convert non-numeric values to NaN\n",
        "hourly_data['HourlyDryBulbTemperature'] = pd.to_numeric(hourly_data['HourlyDryBulbTemperature'], errors='coerce')\n",
        "\n",
        "# Plot after handling non-numeric values\n",
        "plt.figure(figsize=(10, 6))\n",
        "plt.plot(hourly_data['DATE'], hourly_data['HourlyDryBulbTemperature'], label='Temperature')\n",
        "plt.title('Hourly Temperature Variation')\n",
        "plt.xlabel('Time')\n",
        "plt.ylabel('Temperature (F)')\n",
        "plt.legend()\n",
        "plt.show()\n"
      ]
    },
    {
      "cell_type": "code",
      "execution_count": null,
      "metadata": {
        "colab": {
          "base_uri": "https://localhost:8080/",
          "height": 1000
        },
        "id": "lDTGrHpreMSY",
        "outputId": "481e1058-1b55-4daa-bb85-4d0fda00968e"
      },
      "outputs": [
        {
          "ename": "",
          "evalue": "",
          "output_type": "error",
          "traceback": [
            "\u001b[1;31mRunning cells with 'Python 3.11.0' requires the ipykernel package.\n",
            "\u001b[1;31mRun the following command to install 'ipykernel' into the Python environment. \n",
            "\u001b[1;31mCommand: 'c:/Users/CT35/AppData/Local/Programs/Python/Python311/python.exe -m pip install ipykernel -U --user --force-reinstall'"
          ]
        }
      ],
      "source": [
        "# Hourly temperature variation\n",
        "plt.figure(figsize=(10, 6))\n",
        "plt.plot(hourly_data['DATE'], hourly_data['HourlyDryBulbTemperature'], label='Temperature')\n",
        "plt.title('Hourly Temperature Variation')\n",
        "plt.xlabel('Time')\n",
        "plt.ylabel('Temperature (F)')\n",
        "plt.legend()\n",
        "plt.show()\n",
        "\n",
        "# Hourly precipitation\n",
        "plt.figure(figsize=(10, 6))\n",
        "plt.plot(hourly_data['DATE'], hourly_data['HourlyPrecipitation'], label='Precipitation')\n",
        "plt.title('Hourly Precipitation')\n",
        "plt.xlabel('Time')\n",
        "plt.ylabel('Precipitation (inches)')\n",
        "plt.legend()\n",
        "plt.show()\n",
        "\n",
        "# Hourly wind speed\n",
        "plt.figure(figsize=(10, 6))\n",
        "plt.plot(hourly_data['DATE'], hourly_data['HourlyWindSpeed'], label='Wind Speed')\n",
        "plt.title('Hourly Wind Speed')\n",
        "plt.xlabel('Time')\n",
        "plt.ylabel('Wind Speed (mph)')\n",
        "plt.legend()\n",
        "plt.show()\n"
      ]
    },
    {
      "cell_type": "code",
      "execution_count": null,
      "metadata": {
        "colab": {
          "base_uri": "https://localhost:8080/",
          "height": 1000
        },
        "id": "5-qNF-u8fHAS",
        "outputId": "00d3c8ab-a7f9-417f-afc0-b2eb0b6ddc7f"
      },
      "outputs": [
        {
          "ename": "",
          "evalue": "",
          "output_type": "error",
          "traceback": [
            "\u001b[1;31mRunning cells with 'Python 3.11.0' requires the ipykernel package.\n",
            "\u001b[1;31mRun the following command to install 'ipykernel' into the Python environment. \n",
            "\u001b[1;31mCommand: 'c:/Users/CT35/AppData/Local/Programs/Python/Python311/python.exe -m pip install ipykernel -U --user --force-reinstall'"
          ]
        }
      ],
      "source": [
        "# Monthly temperature variation\n",
        "plt.figure(figsize=(10, 6))\n",
        "plt.plot(monthly_data['DATE'], monthly_data['MonthlyMeanTemperature'], label='Mean Temperature')\n",
        "plt.title('Monthly Mean Temperature Variation')\n",
        "plt.xlabel('Month')\n",
        "plt.ylabel('Temperature (F)')\n",
        "plt.legend()\n",
        "plt.show()\n",
        "\n",
        "# Monthly precipitation\n",
        "plt.figure(figsize=(10, 6))\n",
        "plt.plot(monthly_data['DATE'], monthly_data['MonthlyTotalLiquidPrecipitation'], label='Total Precipitation')\n",
        "plt.title('Monthly Total Precipitation')\n",
        "plt.xlabel('Month')\n",
        "plt.ylabel('Precipitation (inches)')\n",
        "plt.legend()\n",
        "plt.show()\n"
      ]
    },
    {
      "cell_type": "code",
      "execution_count": null,
      "metadata": {
        "colab": {
          "base_uri": "https://localhost:8080/",
          "height": 1000
        },
        "id": "5SLVPfZ4fNZR",
        "outputId": "bab0fc72-1089-44ed-90cc-3cdcca17875b"
      },
      "outputs": [
        {
          "ename": "",
          "evalue": "",
          "output_type": "error",
          "traceback": [
            "\u001b[1;31mRunning cells with 'Python 3.11.0' requires the ipykernel package.\n",
            "\u001b[1;31mRun the following command to install 'ipykernel' into the Python environment. \n",
            "\u001b[1;31mCommand: 'c:/Users/CT35/AppData/Local/Programs/Python/Python311/python.exe -m pip install ipykernel -U --user --force-reinstall'"
          ]
        }
      ],
      "source": [
        "# Three-hourly temperature variation\n",
        "plt.figure(figsize=(10, 6))\n",
        "plt.plot(three_hour_data['DATE'], three_hour_data['HourlyDryBulbTemperature'], label='Temperature')\n",
        "plt.title('Three-hourly Temperature Variation')\n",
        "plt.xlabel('Time')\n",
        "plt.ylabel('Temperature (F)')\n",
        "plt.legend()\n",
        "plt.show()\n",
        "\n",
        "# Three-hourly precipitation\n",
        "plt.figure(figsize=(10, 6))\n",
        "plt.plot(three_hour_data['DATE'], three_hour_data['HourlyDewPointTemperature'], label='Precipitation')\n",
        "plt.title('Three-hourly Precipitation')\n",
        "plt.xlabel('Time')\n",
        "plt.ylabel('Precipitation (inches)')\n",
        "plt.legend()\n",
        "plt.show()\n"
      ]
    },
    {
      "cell_type": "code",
      "execution_count": null,
      "metadata": {
        "colab": {
          "base_uri": "https://localhost:8080/",
          "height": 1000
        },
        "id": "kHPWGL9-mqld",
        "outputId": "6dbac27d-3603-4b8b-a801-43dd2d2c5c3b"
      },
      "outputs": [
        {
          "ename": "",
          "evalue": "",
          "output_type": "error",
          "traceback": [
            "\u001b[1;31mRunning cells with 'Python 3.11.0' requires the ipykernel package.\n",
            "\u001b[1;31mRun the following command to install 'ipykernel' into the Python environment. \n",
            "\u001b[1;31mCommand: 'c:/Users/CT35/AppData/Local/Programs/Python/Python311/python.exe -m pip install ipykernel -U --user --force-reinstall'"
          ]
        }
      ],
      "source": [
        "# Visualize the data using plots like time series plots, histograms, and boxplots\n",
        "# Example:\n",
        "import matplotlib.pyplot as plt\n",
        "\n",
        "# Time series plot for Daily Data\n",
        "plt.figure(figsize=(10, 6))\n",
        "plt.plot(daily_data['DATE'], daily_data['DailyMinimumDryBulbTemperature'], label='Temperature')\n",
        "plt.title('Daily Temperature Variation')\n",
        "plt.xlabel('Date')\n",
        "plt.ylabel('Temperature (F)')\n",
        "plt.legend()\n",
        "plt.show()\n",
        "\n",
        "# Histogram for Hourly Data\n",
        "plt.figure(figsize=(10, 6))\n",
        "plt.hist(hourly_data['HourlyPrecipitation'].dropna(), bins=20, color='skyblue', edgecolor='black')\n",
        "plt.title('Hourly Precipitation Distribution')\n",
        "plt.xlabel('Precipitation (inches)')\n",
        "plt.ylabel('Frequency')\n",
        "plt.show()\n"
      ]
    },
    {
      "cell_type": "code",
      "execution_count": null,
      "metadata": {
        "colab": {
          "base_uri": "https://localhost:8080/",
          "height": 564
        },
        "id": "0q1Pa3DVhlH5",
        "outputId": "a90d95b5-08c5-498d-915c-11d9dcabae5f"
      },
      "outputs": [
        {
          "ename": "",
          "evalue": "",
          "output_type": "error",
          "traceback": [
            "\u001b[1;31mRunning cells with 'Python 3.11.0' requires the ipykernel package.\n",
            "\u001b[1;31mRun the following command to install 'ipykernel' into the Python environment. \n",
            "\u001b[1;31mCommand: 'c:/Users/CT35/AppData/Local/Programs/Python/Python311/python.exe -m pip install ipykernel -U --user --force-reinstall'"
          ]
        }
      ],
      "source": [
        "import matplotlib.pyplot as plt\n",
        "\n",
        "# Example: Time series plot for temperature\n",
        "plt.figure(figsize=(10, 6))\n",
        "plt.plot(daily_data['DATE'], daily_data['DailyMaximumDryBulbTemperature'], label='Max Temperature')\n",
        "plt.plot(daily_data['DATE'], daily_data['DailyMinimumDryBulbTemperature'], label='Min Temperature')\n",
        "plt.title('Daily Temperature Variation')\n",
        "plt.xlabel('Date')\n",
        "plt.ylabel('Temperature (F)')\n",
        "plt.legend()\n",
        "plt.show()\n"
      ]
    },
    {
      "cell_type": "code",
      "execution_count": null,
      "metadata": {
        "id": "95L1Wia3EQDU"
      },
      "outputs": [
        {
          "ename": "",
          "evalue": "",
          "output_type": "error",
          "traceback": [
            "\u001b[1;31mRunning cells with 'Python 3.11.0' requires the ipykernel package.\n",
            "\u001b[1;31mRun the following command to install 'ipykernel' into the Python environment. \n",
            "\u001b[1;31mCommand: 'c:/Users/CT35/AppData/Local/Programs/Python/Python311/python.exe -m pip install ipykernel -U --user --force-reinstall'"
          ]
        }
      ],
      "source": []
    },
    {
      "cell_type": "code",
      "execution_count": null,
      "metadata": {
        "colab": {
          "base_uri": "https://localhost:8080/",
          "height": 504
        },
        "id": "i5oJ0cWSk_ua",
        "outputId": "b2887a33-f34f-4a21-f797-0b4d8ad74358"
      },
      "outputs": [
        {
          "ename": "",
          "evalue": "",
          "output_type": "error",
          "traceback": [
            "\u001b[1;31mRunning cells with 'Python 3.11.0' requires the ipykernel package.\n",
            "\u001b[1;31mRun the following command to install 'ipykernel' into the Python environment. \n",
            "\u001b[1;31mCommand: 'c:/Users/CT35/AppData/Local/Programs/Python/Python311/python.exe -m pip install ipykernel -U --user --force-reinstall'"
          ]
        }
      ],
      "source": [
        "import pandas as pd\n",
        "import matplotlib.pyplot as plt\n",
        "\n",
        "# Assuming 'daily_data' DataFrame contains your daily climate data\n",
        "\n",
        "# Convert 'DATE' column to datetime format\n",
        "daily_data['DATE'] = pd.to_datetime(daily_data['DATE'])\n",
        "\n",
        "# Extract year and month from the date\n",
        "daily_data['Year'] = daily_data['DATE'].dt.year\n",
        "daily_data['Month'] = daily_data['DATE'].dt.month\n",
        "\n",
        "# Define a function to map month to season\n",
        "def map_to_season(month):\n",
        "    if month in [12, 1, 2]:  # Winter: December, January, February\n",
        "        return 'Winter'\n",
        "    elif month in [3, 4, 5]:  # Spring: March, April, May\n",
        "        return 'Spring'\n",
        "    elif month in [6, 7, 8]:  # Summer: June, July, August\n",
        "        return 'Summer'\n",
        "    else:                      # Fall: September, October, November\n",
        "        return 'Fall'\n",
        "\n",
        "# Apply the function to create a new 'Season' column\n",
        "daily_data['Season'] = daily_data['Month'].apply(map_to_season)\n",
        "\n",
        "# Aggregate data by season and year to calculate mean temperature\n",
        "seasonal_data = daily_data.groupby(['Year', 'Season']).agg({'DailyMaximumDryBulbTemperature': 'mean'}).reset_index()\n",
        "\n",
        "# Pivot the data for plotting\n",
        "seasonal_pivot = seasonal_data.pivot(index='Year', columns='Season', values='DailyMaximumDryBulbTemperature')\n",
        "\n",
        "# Plot seasonal trends\n",
        "plt.figure(figsize=(10, 6))\n",
        "seasonal_pivot.plot(marker='o')\n",
        "plt.title('Seasonal Temperature Trends')\n",
        "plt.xlabel('Year')\n",
        "plt.ylabel('Mean Maximum Temperature (F)')\n",
        "plt.xticks(seasonal_pivot.index)  # Set x-ticks to years\n",
        "plt.grid(True)\n",
        "plt.legend(title='Season')\n",
        "plt.tight_layout()\n",
        "plt.show()\n"
      ]
    },
    {
      "cell_type": "code",
      "execution_count": null,
      "metadata": {
        "colab": {
          "base_uri": "https://localhost:8080/",
          "height": 607
        },
        "id": "KGTPYleclTGK",
        "outputId": "373cb438-f5ec-41ed-c18a-b53baad15cd4"
      },
      "outputs": [
        {
          "ename": "",
          "evalue": "",
          "output_type": "error",
          "traceback": [
            "\u001b[1;31mRunning cells with 'Python 3.11.0' requires the ipykernel package.\n",
            "\u001b[1;31mRun the following command to install 'ipykernel' into the Python environment. \n",
            "\u001b[1;31mCommand: 'c:/Users/CT35/AppData/Local/Programs/Python/Python311/python.exe -m pip install ipykernel -U --user --force-reinstall'"
          ]
        }
      ],
      "source": [
        "import pandas as pd\n",
        "import matplotlib.pyplot as plt\n",
        "\n",
        "# Assuming 'daily_data' DataFrame contains your daily climate data\n",
        "\n",
        "# Convert 'DATE' column to datetime format\n",
        "daily_data['DATE'] = pd.to_datetime(daily_data['DATE'])\n",
        "\n",
        "# Calculate rolling mean of temperature for a specified window (e.g., 7 days)\n",
        "window = 7\n",
        "daily_data['RollingMeanTemperature'] = daily_data['DailyMaximumDryBulbTemperature'].rolling(window=window).mean()\n",
        "\n",
        "# Define a threshold for defining heatwaves (e.g., mean temperature above 90°F for 3 consecutive days)\n",
        "heatwave_threshold = 90\n",
        "consecutive_days_threshold = 3\n",
        "\n",
        "# Identify periods of consecutive days above the threshold\n",
        "heatwave_mask = daily_data['RollingMeanTemperature'] > heatwave_threshold\n",
        "heatwave_periods = daily_data.groupby(heatwave_mask.ne(heatwave_mask.shift()).cumsum()).filter(lambda x: len(x) >= consecutive_days_threshold)\n",
        "\n",
        "# Plot identified heatwave periods\n",
        "plt.figure(figsize=(10, 6))\n",
        "plt.plot(daily_data['DATE'], daily_data['DailyMaximumDryBulbTemperature'], label='Daily Max Temperature')\n",
        "plt.scatter(heatwave_periods['DATE'], heatwave_periods['DailyMaximumDryBulbTemperature'], color='red', label='Heatwave Period')\n",
        "plt.title('Identification of Heatwave Periods')\n",
        "plt.xlabel('Date')\n",
        "plt.ylabel('Temperature (F)')\n",
        "plt.legend()\n",
        "plt.grid(True)\n",
        "plt.tight_layout()\n",
        "plt.show()\n"
      ]
    },
    {
      "cell_type": "code",
      "execution_count": null,
      "metadata": {
        "colab": {
          "base_uri": "https://localhost:8080/",
          "height": 642
        },
        "id": "2fxK9z4ylefh",
        "outputId": "a6bef984-b1b3-4918-ea62-5e9337803684"
      },
      "outputs": [
        {
          "ename": "",
          "evalue": "",
          "output_type": "error",
          "traceback": [
            "\u001b[1;31mRunning cells with 'Python 3.11.0' requires the ipykernel package.\n",
            "\u001b[1;31mRun the following command to install 'ipykernel' into the Python environment. \n",
            "\u001b[1;31mCommand: 'c:/Users/CT35/AppData/Local/Programs/Python/Python311/python.exe -m pip install ipykernel -U --user --force-reinstall'"
          ]
        }
      ],
      "source": [
        "from scipy.stats import linregress\n",
        "\n",
        "# Assuming 'daily_data' DataFrame contains your daily climate data\n",
        "\n",
        "# Convert 'DATE' column to datetime format\n",
        "daily_data['DATE'] = pd.to_datetime(daily_data['DATE'])\n",
        "\n",
        "# Extract year from the date\n",
        "daily_data['Year'] = daily_data['DATE'].dt.year\n",
        "\n",
        "# Group by year and calculate the mean temperature\n",
        "annual_mean_temperature = daily_data.groupby('Year')['DailyMaximumDryBulbTemperature'].mean()\n",
        "\n",
        "# Perform linear regression to find the trend\n",
        "slope, intercept, r_value, p_value, std_err = linregress(annual_mean_temperature.index, annual_mean_temperature)\n",
        "\n",
        "# Plot the data and regression line\n",
        "plt.figure(figsize=(10, 6))\n",
        "plt.plot(annual_mean_temperature.index, annual_mean_temperature, marker='o', label='Annual Mean Temperature')\n",
        "plt.plot(annual_mean_temperature.index, intercept + slope * annual_mean_temperature.index, 'r', label='Trend Line')\n",
        "plt.title('Trend Analysis of Annual Mean Temperature')\n",
        "plt.xlabel('Year')\n",
        "plt.ylabel('Mean Temperature (F)')\n",
        "plt.legend()\n",
        "plt.grid(True)\n",
        "plt.tight_layout()\n",
        "plt.show()\n",
        "\n",
        "# Print the slope (trend) and p-value (significance)\n",
        "print(f\"Trend (slope): {slope:.2f} °F per year\")\n",
        "print(f\"P-value: {p_value:.2f}\")\n"
      ]
    },
    {
      "cell_type": "code",
      "execution_count": null,
      "metadata": {
        "colab": {
          "base_uri": "https://localhost:8080/",
          "height": 1000
        },
        "id": "3toBVYrzl4u6",
        "outputId": "9fdc129d-efe4-46cb-dc96-51df59205b95"
      },
      "outputs": [
        {
          "ename": "",
          "evalue": "",
          "output_type": "error",
          "traceback": [
            "\u001b[1;31mRunning cells with 'Python 3.11.0' requires the ipykernel package.\n",
            "\u001b[1;31mRun the following command to install 'ipykernel' into the Python environment. \n",
            "\u001b[1;31mCommand: 'c:/Users/CT35/AppData/Local/Programs/Python/Python311/python.exe -m pip install ipykernel -U --user --force-reinstall'"
          ]
        }
      ],
      "source": [
        "import seaborn as sns\n",
        "\n",
        "# Select numeric columns for correlation analysis\n",
        "numeric_columns = daily_data.select_dtypes(include='number')\n",
        "\n",
        "# Calculate the correlation matrix\n",
        "correlation_matrix = numeric_columns.corr()\n",
        "\n",
        "# Plot the correlation matrix as a heatmap\n",
        "plt.figure(figsize=(10, 8))\n",
        "sns.heatmap(correlation_matrix, annot=True, cmap='coolwarm', fmt=\".2f\")\n",
        "plt.title('Correlation Matrix of Climate Variables')\n",
        "plt.show()\n"
      ]
    },
    {
      "cell_type": "code",
      "execution_count": null,
      "metadata": {
        "colab": {
          "base_uri": "https://localhost:8080/"
        },
        "id": "6PdZnXsXfP-7",
        "outputId": "21ea8296-bf8b-4eb1-b472-42ac4ccc08fb"
      },
      "outputs": [
        {
          "ename": "",
          "evalue": "",
          "output_type": "error",
          "traceback": [
            "\u001b[1;31mRunning cells with 'Python 3.11.0' requires the ipykernel package.\n",
            "\u001b[1;31mRun the following command to install 'ipykernel' into the Python environment. \n",
            "\u001b[1;31mCommand: 'c:/Users/CT35/AppData/Local/Programs/Python/Python311/python.exe -m pip install ipykernel -U --user --force-reinstall'"
          ]
        }
      ],
      "source": [
        "# Conduct hypothesis tests to quantify relationships and identify significant changes\n",
        "# Example:\n",
        "from scipy.stats import ttest_ind\n",
        "\n",
        "# Hypothesis test for difference in mean temperatures between two time periods\n",
        "group1 = daily_data[daily_data['Year'] < 2000]['DailyAverageDryBulbTemperature']\n",
        "group2 = daily_data[daily_data['Year'] >= 2000]['DailyAverageDryBulbTemperature']\n",
        "t_stat, p_value = ttest_ind(group1, group2)\n",
        "print(\"Hypothesis Test for Difference in Mean Temperatures:\")\n",
        "print(\"T-statistic:\", t_stat)\n",
        "print(\"P-value:\", p_value)\n"
      ]
    },
    {
      "cell_type": "code",
      "execution_count": null,
      "metadata": {
        "colab": {
          "base_uri": "https://localhost:8080/",
          "height": 729
        },
        "id": "RNtFX00xHzSJ",
        "outputId": "550ced0e-42d6-4ea0-e684-fe32164c23ce"
      },
      "outputs": [
        {
          "ename": "",
          "evalue": "",
          "output_type": "error",
          "traceback": [
            "\u001b[1;31mRunning cells with 'Python 3.11.0' requires the ipykernel package.\n",
            "\u001b[1;31mRun the following command to install 'ipykernel' into the Python environment. \n",
            "\u001b[1;31mCommand: 'c:/Users/CT35/AppData/Local/Programs/Python/Python311/python.exe -m pip install ipykernel -U --user --force-reinstall'"
          ]
        }
      ],
      "source": [
        "import pandas as pd\n",
        "\n",
        "# Assuming 'daily_data' is your DataFrame containing the daily data\n",
        "# Convert 'DATE' column to datetime format if not already done\n",
        "daily_data['DATE'] = pd.to_datetime(daily_data['DATE'])\n",
        "\n",
        "# Filter out rows where 'DailyAverageWindSpeed' is not null\n",
        "filtered_data = daily_data[daily_data['DailyAverageWindSpeed'].notnull()]\n",
        "\n",
        "# Group data by date and calculate the daily average wind speed\n",
        "daily_avg_wind_speed = filtered_data.groupby('DATE')['DailyAverageWindSpeed'].mean()\n",
        "\n",
        "# Print the first few rows of the result\n",
        "print(daily_avg_wind_speed.head())\n",
        "import matplotlib.pyplot as plt\n",
        "\n",
        "# Assuming 'daily_avg_wind_speed' is the Series containing the daily average wind speed\n",
        "# Plotting the data\n",
        "plt.figure(figsize=(12, 6))\n",
        "plt.plot(daily_avg_wind_speed.index, daily_avg_wind_speed.values, color='blue')\n",
        "\n",
        "# Adding labels and title\n",
        "plt.title('Daily Average Wind Speed Over Time')\n",
        "plt.xlabel('Date')\n",
        "plt.ylabel('Daily Average Wind Speed (mph)')\n",
        "\n",
        "# Adding grid for better visualization\n",
        "plt.grid(True)\n",
        "\n",
        "# Rotating x-axis labels for better readability\n",
        "plt.xticks(rotation=45)\n",
        "\n",
        "# Display the plot\n",
        "plt.tight_layout()\n",
        "plt.show()\n"
      ]
    },
    {
      "cell_type": "code",
      "execution_count": null,
      "metadata": {
        "colab": {
          "base_uri": "https://localhost:8080/",
          "height": 607
        },
        "id": "y_ekGjIwH0BF",
        "outputId": "d79d6cf4-0eb5-4adb-8e0e-876dc99b27a0"
      },
      "outputs": [
        {
          "ename": "",
          "evalue": "",
          "output_type": "error",
          "traceback": [
            "\u001b[1;31mRunning cells with 'Python 3.11.0' requires the ipykernel package.\n",
            "\u001b[1;31mRun the following command to install 'ipykernel' into the Python environment. \n",
            "\u001b[1;31mCommand: 'c:/Users/CT35/AppData/Local/Programs/Python/Python311/python.exe -m pip install ipykernel -U --user --force-reinstall'"
          ]
        }
      ],
      "source": [
        "import matplotlib.pyplot as plt\n",
        "\n",
        "# Convert 'DATE' column to datetime format if not already done\n",
        "daily_data['DATE'] = pd.to_datetime(daily_data['DATE'])\n",
        "\n",
        "# Filter out rows where 'DailyPeakWindDirection' is not null\n",
        "filtered_data = daily_data[daily_data['DailyPeakWindDirection'].notnull()]\n",
        "\n",
        "# Plotting the data\n",
        "plt.figure(figsize=(12, 6))\n",
        "plt.plot(filtered_data['DATE'], filtered_data['DailyPeakWindDirection'], color='green')\n",
        "\n",
        "# Adding labels and title\n",
        "plt.title('Daily Peak Wind Direction Over Time')\n",
        "plt.xlabel('Date')\n",
        "plt.ylabel('Daily Peak Wind Direction (degrees)')\n",
        "\n",
        "# Adding grid for better visualization\n",
        "plt.grid(True)\n",
        "\n",
        "# Rotating x-axis labels for better readability\n",
        "plt.xticks(rotation=45)\n",
        "\n",
        "# Display the plot\n",
        "plt.tight_layout()\n",
        "plt.show()\n"
      ]
    },
    {
      "cell_type": "code",
      "execution_count": null,
      "metadata": {
        "colab": {
          "base_uri": "https://localhost:8080/",
          "height": 607
        },
        "id": "enWxijToIbfL",
        "outputId": "a181d501-5fc6-4c10-ad6b-804f191beca4"
      },
      "outputs": [
        {
          "ename": "",
          "evalue": "",
          "output_type": "error",
          "traceback": [
            "\u001b[1;31mRunning cells with 'Python 3.11.0' requires the ipykernel package.\n",
            "\u001b[1;31mRun the following command to install 'ipykernel' into the Python environment. \n",
            "\u001b[1;31mCommand: 'c:/Users/CT35/AppData/Local/Programs/Python/Python311/python.exe -m pip install ipykernel -U --user --force-reinstall'"
          ]
        }
      ],
      "source": [
        "import matplotlib.pyplot as plt\n",
        "\n",
        "# Count occurrences of weather sources in each dataset\n",
        "daily_source_counts = daily_data['SOURCE'].value_counts()\n",
        "hourly_source_counts = hourly_data['SOURCE'].value_counts()\n",
        "monthly_source_counts = monthly_data['SOURCE'].value_counts()\n",
        "three_hour_source_counts = three_hour_data['SOURCE'].value_counts()\n",
        "\n",
        "# Combine counts from all datasets\n",
        "all_source_counts = daily_source_counts.add(hourly_source_counts, fill_value=0)\n",
        "all_source_counts = all_source_counts.add(monthly_source_counts, fill_value=0)\n",
        "all_source_counts = all_source_counts.add(three_hour_source_counts, fill_value=0)\n",
        "\n",
        "# Plotting the data\n",
        "plt.figure(figsize=(10, 6))\n",
        "all_source_counts.plot(kind='bar', color='skyblue')\n",
        "\n",
        "# Adding labels and title\n",
        "plt.title('Distribution of Weather Sources')\n",
        "plt.xlabel('Weather Source')\n",
        "plt.ylabel('Count')\n",
        "\n",
        "# Rotating x-axis labels for better readability\n",
        "plt.xticks(rotation=45)\n",
        "\n",
        "# Display the plot\n",
        "plt.tight_layout()\n",
        "plt.show()\n"
      ]
    },
    {
      "cell_type": "code",
      "execution_count": null,
      "metadata": {
        "colab": {
          "base_uri": "https://localhost:8080/",
          "height": 807
        },
        "id": "w554GepLIl8X",
        "outputId": "1b54a513-54b9-4226-edf3-12748635835c"
      },
      "outputs": [
        {
          "ename": "",
          "evalue": "",
          "output_type": "error",
          "traceback": [
            "\u001b[1;31mRunning cells with 'Python 3.11.0' requires the ipykernel package.\n",
            "\u001b[1;31mRun the following command to install 'ipykernel' into the Python environment. \n",
            "\u001b[1;31mCommand: 'c:/Users/CT35/AppData/Local/Programs/Python/Python311/python.exe -m pip install ipykernel -U --user --force-reinstall'"
          ]
        }
      ],
      "source": [
        "import matplotlib.pyplot as plt\n",
        "\n",
        "# Count occurrences of report types in each dataset\n",
        "daily_report_counts = daily_data['REPORT_TYPE'].value_counts()\n",
        "hourly_report_counts = hourly_data['REPORT_TYPE'].value_counts()\n",
        "monthly_report_counts = monthly_data['REPORT_TYPE'].value_counts()\n",
        "three_hour_report_counts = three_hour_data['REPORT_TYPE'].value_counts()\n",
        "\n",
        "# Combine counts from all datasets\n",
        "all_report_counts = daily_report_counts.add(hourly_report_counts, fill_value=0)\n",
        "all_report_counts = all_report_counts.add(monthly_report_counts, fill_value=0)\n",
        "all_report_counts = all_report_counts.add(three_hour_report_counts, fill_value=0)\n",
        "\n",
        "# Plotting the data\n",
        "plt.figure(figsize=(8, 8))\n",
        "plt.pie(all_report_counts, labels=all_report_counts.index, autopct='%1.1f%%', startangle=140)\n",
        "\n",
        "# Adding title\n",
        "plt.title('Distribution of Weather Report Types')\n",
        "\n",
        "# Display the plot\n",
        "plt.axis('equal')  # Equal aspect ratio ensures that pie is drawn as a circle.\n",
        "plt.tight_layout()\n",
        "plt.show()\n"
      ]
    }
  ],
  "metadata": {
    "colab": {
      "provenance": []
    },
    "kernelspec": {
      "display_name": "Python 3",
      "name": "python3"
    },
    "language_info": {
      "name": "python",
      "version": "3.11.0"
    }
  },
  "nbformat": 4,
  "nbformat_minor": 0
}
